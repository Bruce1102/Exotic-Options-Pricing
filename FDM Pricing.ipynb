{
 "cells": [
  {
   "cell_type": "markdown",
   "metadata": {},
   "source": [
    "<h1>Finite Difference Methods (FDM) Options Pricing</h1>\n",
    "\n",
    "In this python notebook, we will be pricing exotic options by using FDM PDE solver."
   ]
  },
  {
   "cell_type": "markdown",
   "metadata": {},
   "source": [
    "<h2> 1.0 Importing Packages </h2>"
   ]
  },
  {
   "cell_type": "code",
   "execution_count": 1,
   "metadata": {},
   "outputs": [],
   "source": [
    "from FDM.finite_difference_methods import *\n",
    "from FDM.options_FDM import *"
   ]
  },
  {
   "cell_type": "markdown",
   "metadata": {},
   "source": [
    "<h2> 2.0 Initialise Options </h2>\n",
    "\n",
    "Code chunk below will be initialising the variables"
   ]
  },
  {
   "cell_type": "code",
   "execution_count": 6,
   "metadata": {},
   "outputs": [],
   "source": [
    "# Initialising variables for the pde\n",
    "spot_init = 110  # Initial Spot price S_0\n",
    "strike    = 100  # Strike price\n",
    "tau       = 6/12  # Time to maturity\n",
    "r         = 0.05 # Risk-free rate\n",
    "sigma     = lambda t, s: 0.2 # Function of volatility (in this case constant volatility)\n",
    "\n",
    "dividend  = 0.05\n",
    "bounds    = (0, 200)\n",
    "option_type = 'call'\n",
    "\n",
    "barrier = 118\n",
    "knock   = 'up'\n"
   ]
  },
  {
   "cell_type": "markdown",
   "metadata": {},
   "source": [
    "Code chunk below will be initialising the options PDE"
   ]
  },
  {
   "cell_type": "code",
   "execution_count": 7,
   "metadata": {},
   "outputs": [],
   "source": [
    "options_pde = {'European': OptionsBlackScholes(strike, tau, r, sigma, dividend, bounds, option_type),\n",
    "               'American': AmericanOptionsBlackScholes(strike, tau, r, sigma, dividend, bounds, option_type),\n",
    "               f'Knock {knock} and out Barrier': KnockOutOptionsBlackScholes(strike, tau, r, sigma, dividend, barrier, knock, bounds, option_type)}"
   ]
  },
  {
   "cell_type": "markdown",
   "metadata": {},
   "source": [
    "<h2> Compute price with FDM </h2>\n",
    "\n",
    "The code chunk below will be defining a simple function for pricing options with a given PDE and selected scheme to solve the grid. This function will reduce the code necessary to compute price of different options"
   ]
  },
  {
   "cell_type": "code",
   "execution_count": 8,
   "metadata": {},
   "outputs": [],
   "source": [
    "def compute_price_fdm(options_pde: OptionsBlackScholes, spot_init: float, PDESolverScheme: PDESolver, imax: int=1700, jmax: int=200, check_stable: bool=False) -> float:\n",
    "    # Initialise PDE solver\n",
    "    pde_solver = PDESolverScheme(options_pde, imax, jmax)\n",
    "\n",
    "    # Check if it is stable\n",
    "    if check_stable:\n",
    "        pde_solver.check_stability(0, spot_init)\n",
    "\n",
    "    # compute grid \n",
    "    pde_solver.solve_grid()\n",
    "\n",
    "    return pde_solver.interpolate(0, spot_init)"
   ]
  },
  {
   "cell_type": "markdown",
   "metadata": {},
   "source": [
    "<h3> Pricing with Explicit Scheme</h3>"
   ]
  },
  {
   "cell_type": "code",
   "execution_count": 9,
   "metadata": {},
   "outputs": [
    {
     "name": "stdout",
     "output_type": "stream",
     "text": [
      "Pricing with Explicit Scheme (Strike: 100, tau: 0.5)\n",
      "European call Option: price: 11.907756842548661\n",
      "American call Option: price: 12.003228209939094\n",
      "Knock up and out Barrier call Option: price: 1.1276648548763928\n"
     ]
    }
   ],
   "source": [
    "print(f'Pricing with Explicit Scheme (Strike: {strike}, tau: {tau})')\n",
    "for pde in options_pde:\n",
    "    price = compute_price_fdm(options_pde[pde], spot_init, ExplicitScheme)\n",
    "    print(f\"{pde} {option_type} Option: price: {price}\")"
   ]
  },
  {
   "cell_type": "markdown",
   "metadata": {},
   "source": [
    "<h3> Pricing with Implicit Scheme</h3>"
   ]
  },
  {
   "cell_type": "code",
   "execution_count": 21,
   "metadata": {},
   "outputs": [
    {
     "name": "stdout",
     "output_type": "stream",
     "text": [
      "Pricing with Implicit Scheme (Strike: 100, tau: 0.5)\n",
      "European put Option: price: 2.1542217125884053\n",
      "American put Option: price: 2.160667096589237\n",
      "Knock up and out Barrier put Option: price: 1.874212191501466\n"
     ]
    }
   ],
   "source": [
    "print(f'Pricing with Implicit Scheme (Strike: {strike}, tau: {tau})')\n",
    "for pde in options_pde:\n",
    "    price = compute_price_fdm(options_pde[pde], spot_init, ImplicitScheme)\n",
    "    print(f\"{pde} {option_type} Option: price: {price}\")"
   ]
  },
  {
   "cell_type": "markdown",
   "metadata": {},
   "source": [
    "<h3> Pricing with Implicit Scheme</h3>"
   ]
  },
  {
   "cell_type": "code",
   "execution_count": 22,
   "metadata": {},
   "outputs": [
    {
     "name": "stdout",
     "output_type": "stream",
     "text": [
      "Pricing with Crank Nicolson Scheme (Strike: 100, tau: 0.5)\n",
      "European put Option: price: 3.188782273978385\n",
      "American put Option: price: 3.205778647521699\n",
      "Knock up and out Barrier put Option: price: 2.5033815239324224\n"
     ]
    }
   ],
   "source": [
    "print(f'Pricing with Crank Nicolson Scheme (Strike: {strike}, tau: {tau})')\n",
    "for pde in options_pde:\n",
    "    price = compute_price_fdm(options_pde[pde], spot_init, CrankNicolsonScheme)\n",
    "    print(f\"{pde} {option_type} Option: price: {price}\")"
   ]
  }
 ],
 "metadata": {
  "kernelspec": {
   "display_name": "base",
   "language": "python",
   "name": "python3"
  },
  "language_info": {
   "codemirror_mode": {
    "name": "ipython",
    "version": 3
   },
   "file_extension": ".py",
   "mimetype": "text/x-python",
   "name": "python",
   "nbconvert_exporter": "python",
   "pygments_lexer": "ipython3",
   "version": "3.9.13 (main, Aug 25 2022, 23:26:10) \n[GCC 11.2.0]"
  },
  "orig_nbformat": 4,
  "vscode": {
   "interpreter": {
    "hash": "e4818a0b8c316263be072c2082609790d2bac6bbfe2378382b84905edb944ba2"
   }
  }
 },
 "nbformat": 4,
 "nbformat_minor": 2
}
