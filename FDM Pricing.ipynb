{
 "cells": [
  {
   "cell_type": "markdown",
   "metadata": {},
   "source": [
    "<h1>Finite Difference Methods (FDM) Options Pricing</h1>\n",
    "\n",
    "In this python notebook, we will be pricing exotic options by using FDM PDE solver."
   ]
  },
  {
   "cell_type": "markdown",
   "metadata": {},
   "source": [
    "<h2> 1.0 Importing Packages </h2>"
   ]
  },
  {
   "cell_type": "code",
   "execution_count": 1,
   "metadata": {},
   "outputs": [],
   "source": [
    "from src.FDM import *\n",
    "from src.optionsFDM import *"
   ]
  },
  {
   "cell_type": "markdown",
   "metadata": {},
   "source": [
    "<h2> 2.0 Initialise Options </h2>\n",
    "\n",
    "Code chunk below will be initialising the variables"
   ]
  },
  {
   "cell_type": "code",
   "execution_count": 21,
   "metadata": {},
   "outputs": [],
   "source": [
    "# Initialising variables for the pde\n",
    "spot_init = 110  # Initial Spot price S_0\n",
    "strike    = 100  # Strike price\n",
    "tau       = 6/12  # Time to maturity\n",
    "r         = 0.05 # Risk-free rate\n",
    "sigma     = lambda t, s: 0.2 # Function of volatility (in this case constant volatility)\n",
    "\n",
    "dividend  = 0.1\n",
    "bounds    = (0, 200)\n",
    "option_type = 'put'\n",
    "\n",
    "barrier = 118\n",
    "knock   = 'up-out'\n"
   ]
  },
  {
   "cell_type": "markdown",
   "metadata": {},
   "source": [
    "Code chunk below will be initialising the options PDE"
   ]
  },
  {
   "cell_type": "code",
   "execution_count": 22,
   "metadata": {},
   "outputs": [],
   "source": [
    "european_call_PDE = OptionsBlackScholes(strike, tau, r, sigma, dividend, bounds, option_type)\n",
    "american_call_PDE = AmericanOptionsBlackScholes(strike, tau, r, sigma, dividend, bounds, option_type)\n",
    "barrier_call_PDE = BarrierOptionsBlackScholes(strike, tau, r, sigma, dividend, barrier, knock, bounds, 'put')"
   ]
  },
  {
   "cell_type": "markdown",
   "metadata": {},
   "source": [
    "<h2> Compute price with Explicit Scheme </h2>"
   ]
  },
  {
   "cell_type": "code",
   "execution_count": 23,
   "metadata": {},
   "outputs": [
    {
     "name": "stdout",
     "output_type": "stream",
     "text": [
      "Current dt of 0.0002941176470588235 is stable.\n",
      "Prce of a European put option (strike = 100, tau = 0.5): price: 5.190034461464365e-07\n"
     ]
    }
   ],
   "source": [
    "# Initiate Explicit Scheme\n",
    "european_call_PDE_Solver = ExplicitScheme(european_call_PDE, imax=1700, jmax=200)\n",
    "\n",
    "# Check if dx and dt are stable\n",
    "european_call_PDE_Solver.check_stability(0, spot_init)\n",
    "\n",
    "# Use explicit scheme to compute grid \n",
    "european_call_PDE_Solver.solve_grid()\n",
    "\n",
    "# Compute price\n",
    "price = european_call_PDE_Solver.interpolate(0, spot_init)\n",
    "\n",
    "print(f\"Prce of a European {option_type} option (strike = {strike}, tau = {tau}): price: {price}\")"
   ]
  },
  {
   "cell_type": "code",
   "execution_count": 24,
   "metadata": {},
   "outputs": [
    {
     "name": "stdout",
     "output_type": "stream",
     "text": [
      "Current dt of 0.0002941176470588235 is stable.\n",
      "Prce of a American put option (strike = 100, tau = 0.5): price: 5.190034461464365e-07\n"
     ]
    }
   ],
   "source": [
    "# Initiate Explicit Scheme\n",
    "american_call_PDE_Solver = ExplicitScheme(american_call_PDE, imax=1700, jmax=200)\n",
    "\n",
    "\n",
    "american_call_PDE_Solver.check_stability(0, spot_init)\n",
    "\n",
    "# Use explicit scheme to compute grid \n",
    "american_call_PDE_Solver.solve_grid()\n",
    "\n",
    "american_price = american_call_PDE_Solver.interpolate(0, spot_init)\n",
    "\n",
    "print(f\"Prce of a American {option_type} option (strike = {strike}, tau = {tau}): price: {american_price}\")"
   ]
  },
  {
   "cell_type": "code",
   "execution_count": 25,
   "metadata": {},
   "outputs": [
    {
     "name": "stdout",
     "output_type": "stream",
     "text": [
      "Current dt of 0.0001 is stable.\n",
      "Prce of a Barrier put option (strike = 100, tau = 0.5): price: 1.1208435981680365e-258\n"
     ]
    }
   ],
   "source": [
    "# Initiate Explicit Scheme\n",
    "barrier_call_PDE_solver = ExplicitScheme(barrier_call_PDE, imax=5000, jmax=300)\n",
    "\n",
    "\n",
    "barrier_call_PDE_solver.check_stability(0, 100)\n",
    "\n",
    "# Use explicit scheme to compute grid \n",
    "barrier_call_PDE_solver.solve_grid()\n",
    "\n",
    "Barrier_price = barrier_call_PDE_solver.interpolate(0, 100)\n",
    "\n",
    "print(f\"Prce of a Barrier {option_type} option (strike = {strike}, tau = {tau}): price: {Barrier_price}\")"
   ]
  },
  {
   "cell_type": "code",
   "execution_count": null,
   "metadata": {},
   "outputs": [],
   "source": []
  }
 ],
 "metadata": {
  "kernelspec": {
   "display_name": "base",
   "language": "python",
   "name": "python3"
  },
  "language_info": {
   "codemirror_mode": {
    "name": "ipython",
    "version": 3
   },
   "file_extension": ".py",
   "mimetype": "text/x-python",
   "name": "python",
   "nbconvert_exporter": "python",
   "pygments_lexer": "ipython3",
   "version": "3.9.13"
  },
  "orig_nbformat": 4,
  "vscode": {
   "interpreter": {
    "hash": "e4818a0b8c316263be072c2082609790d2bac6bbfe2378382b84905edb944ba2"
   }
  }
 },
 "nbformat": 4,
 "nbformat_minor": 2
}
