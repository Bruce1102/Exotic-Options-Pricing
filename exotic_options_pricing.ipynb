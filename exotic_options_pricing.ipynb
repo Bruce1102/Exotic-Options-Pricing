{
 "cells": [
  {
   "cell_type": "code",
   "execution_count": 3,
   "metadata": {},
   "outputs": [],
   "source": [
    "from options import OptionsBlackScholes, European, Barrier\n",
    "from FDM import PDESolver, ExplicitScheme\n",
    "import numpy as np"
   ]
  },
  {
   "cell_type": "code",
   "execution_count": 12,
   "metadata": {},
   "outputs": [],
   "source": [
    "spot_init = 100  # Initial Spot price S_0\n",
    "strike    = 100  # Strike price\n",
    "rate      = 0.02 # Risk-free rate\n",
    "tau       = 6/12  # Time to maturity\n",
    "spot_low  = 0\n",
    "spot_up   = 2 * spot_init\n",
    "sigma     = 0.1"
   ]
  },
  {
   "cell_type": "code",
   "execution_count": 12,
   "metadata": {},
   "outputs": [
    {
     "name": "stdout",
     "output_type": "stream",
     "text": [
      "Eu Put Option's Explicit Value: 19.363193632761384\n"
     ]
    }
   ],
   "source": [
    "EuPut = European(strike, rate, tau, sigma, (spot_low, spot_up), 'put')\n",
    "\n",
    "EuPut_explicit = ExplicitScheme(EuPut, 100, 100)\n",
    "EuPut_explicit.solve_grid()\n",
    "\n",
    "print(f\"Eu Put Option's Explicit Value: {EuPut_explicit.interpolate(0,80)}\")"
   ]
  },
  {
   "cell_type": "code",
   "execution_count": 13,
   "metadata": {},
   "outputs": [
    {
     "name": "stdout",
     "output_type": "stream",
     "text": [
      "Up and Out Call Option's Explicit Value: 0.2805349744114926\n"
     ]
    }
   ],
   "source": [
    "barrier   = 118  # Barrier\n",
    "\n",
    "up_out_call_option = Barrier(strike, rate, tau, sigma, barrier = barrier, knock='up-out', bounds= (spot_low, spot_up), put_call='call')\n",
    "\n",
    "up_out_call_option_explicit = ExplicitScheme(up_out_call_option, 100, 100)\n",
    "up_out_call_option_explicit.solve_grid()\n",
    "\n",
    "print(f\"Up and Out Call Option's Explicit Value: {up_out_call_option_explicit.interpolate(0,80)}\")"
   ]
  },
  {
   "cell_type": "code",
   "execution_count": 1,
   "metadata": {},
   "outputs": [
    {
     "data": {
      "text/plain": [
       "[1, 2, 3]"
      ]
     },
     "execution_count": 1,
     "metadata": {},
     "output_type": "execute_result"
    }
   ],
   "source": []
  },
  {
   "cell_type": "code",
   "execution_count": 9,
   "metadata": {},
   "outputs": [
    {
     "data": {
      "text/plain": [
       "array([[[2.4878106e-316, 0.0000000e+000, 0.0000000e+000],\n",
       "        [0.0000000e+000, 0.0000000e+000, 0.0000000e+000]]])"
      ]
     },
     "execution_count": 9,
     "metadata": {},
     "output_type": "execute_result"
    }
   ],
   "source": [
    "np.empty(, dtype = float)"
   ]
  },
  {
   "cell_type": "code",
   "execution_count": 11,
   "metadata": {},
   "outputs": [
    {
     "data": {
      "text/plain": [
       "array([2, 3, 4])"
      ]
     },
     "execution_count": 11,
     "metadata": {},
     "output_type": "execute_result"
    }
   ],
   "source": [
    "np.array([1,2,3]) + 1"
   ]
  },
  {
   "cell_type": "code",
   "execution_count": null,
   "metadata": {},
   "outputs": [],
   "source": []
  }
 ],
 "metadata": {
  "kernelspec": {
   "display_name": "base",
   "language": "python",
   "name": "python3"
  },
  "language_info": {
   "codemirror_mode": {
    "name": "ipython",
    "version": 3
   },
   "file_extension": ".py",
   "mimetype": "text/x-python",
   "name": "python",
   "nbconvert_exporter": "python",
   "pygments_lexer": "ipython3",
   "version": "3.9.13 (main, Aug 25 2022, 23:26:10) \n[GCC 11.2.0]"
  },
  "orig_nbformat": 4,
  "vscode": {
   "interpreter": {
    "hash": "e4818a0b8c316263be072c2082609790d2bac6bbfe2378382b84905edb944ba2"
   }
  }
 },
 "nbformat": 4,
 "nbformat_minor": 2
}
