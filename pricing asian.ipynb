{
 "cells": [
  {
   "cell_type": "code",
   "execution_count": 1,
   "metadata": {},
   "outputs": [],
   "source": [
    "from src.MC import MonteCarlo\n",
    "from src.optionsMC import Option, Asian\n",
    "from src.stochastic_process_simulation import StochasticProcessSimulation"
   ]
  },
  {
   "cell_type": "code",
   "execution_count": 2,
   "metadata": {},
   "outputs": [],
   "source": [
    "spot = 100\n",
    "strike = 100\n",
    "rate   = 0.02\n",
    "tau    = 1/12\n",
    "mu = 0.01\n",
    "sigma = 0.1\n",
    "\n",
    "stoch_process = StochasticProcessSimulation(initial_price = 100, mu = mu, sigma = sigma, tau = tau, n_steps = 1_000)"
   ]
  },
  {
   "cell_type": "code",
   "execution_count": 4,
   "metadata": {},
   "outputs": [
    {
     "data": {
      "text/plain": [
       "1.1742969103542371"
      ]
     },
     "execution_count": 4,
     "metadata": {},
     "output_type": "execute_result"
    }
   ],
   "source": [
    "euCall = Option(stoch_process, strike, rate, tau, call_put = 'call')\n",
    "\n",
    "euCall_MC = MonteCarlo(euCall)\n",
    "euCall_MC.simulate()\n",
    "euCall_MC.get_fair_value()"
   ]
  },
  {
   "cell_type": "code",
   "execution_count": 5,
   "metadata": {},
   "outputs": [
    {
     "data": {
      "text/plain": [
       "1.1773485595764175"
      ]
     },
     "execution_count": 5,
     "metadata": {},
     "output_type": "execute_result"
    }
   ],
   "source": [
    "asianCall = Asian(stoch_process, strike, rate, tau, call_put = 'call', average_type = 'arithmetic', float_fixed = 'floating')\n",
    "\n",
    "asianCall_MC = MonteCarlo(asianCall)\n",
    "asianCall_MC.simulate()\n",
    "asianCall_MC.get_fair_value()"
   ]
  },
  {
   "cell_type": "code",
   "execution_count": 102,
   "metadata": {},
   "outputs": [
    {
     "data": {
      "text/plain": [
       "1.3665879396936704"
      ]
     },
     "execution_count": 102,
     "metadata": {},
     "output_type": "execute_result"
    }
   ],
   "source": [
    "# asian.get_payoff()\n",
    "\n",
    "asian_MC.get_simulation_payoff().mean()"
   ]
  },
  {
   "cell_type": "code",
   "execution_count": 97,
   "metadata": {},
   "outputs": [
    {
     "data": {
      "text/plain": [
       "0.3741263877962666"
      ]
     },
     "execution_count": 97,
     "metadata": {},
     "output_type": "execute_result"
    }
   ],
   "source": [
    "asian.get_payoff(asian.get_historical_prices()[-1])"
   ]
  },
  {
   "cell_type": "code",
   "execution_count": null,
   "metadata": {},
   "outputs": [],
   "source": []
  }
 ],
 "metadata": {
  "kernelspec": {
   "display_name": "base",
   "language": "python",
   "name": "python3"
  },
  "language_info": {
   "codemirror_mode": {
    "name": "ipython",
    "version": 3
   },
   "file_extension": ".py",
   "mimetype": "text/x-python",
   "name": "python",
   "nbconvert_exporter": "python",
   "pygments_lexer": "ipython3",
   "version": "3.9.13"
  },
  "orig_nbformat": 4,
  "vscode": {
   "interpreter": {
    "hash": "e4818a0b8c316263be072c2082609790d2bac6bbfe2378382b84905edb944ba2"
   }
  }
 },
 "nbformat": 4,
 "nbformat_minor": 2
}
