{
 "cells": [
  {
   "cell_type": "code",
   "execution_count": 1,
   "metadata": {},
   "outputs": [],
   "source": [
    "import numpy as np\n",
    "import math\n",
    "\n",
    "class PDESolver:\n",
    "    \"\"\" Abstract class to solve Black-Scholes PDE \"\"\"\n",
    "\n",
    "    def __init__(self, pde, imax, jmax):\n",
    "        \"\"\" Constructor\n",
    "        Parameters:\n",
    "            pde : PDE to be solved\n",
    "            imax : last value of the first variable's discretisation\n",
    "            jmax : last value of the second variable's discretisation\n",
    "        \"\"\"\n",
    "        # Initialising self variables\n",
    "        self.pde  = pde\n",
    "        self.imax = imax\n",
    "        self.jmax = jmax\n",
    "        \n",
    "        # Initialising dt and dx \n",
    "        self.dt = pde.tau / imax\n",
    "        self.dx = (pde.x_up - pde.x_low) / jmax\n",
    "\n",
    "        # Initialising grid\n",
    "        self.grid = np.empty((imax + 1, jmax + 1), dtype = float)\n",
    "\n",
    "    def t(self, i):\n",
    "        \"\"\" Return the descretised value of t at index i \"\"\"\n",
    "        return self.dt * i\n",
    "    \n",
    "    def x(self, j):\n",
    "        \"\"\" Return the descretised value of x at index j \"\"\"\n",
    "        return self.dx * j\n",
    "\n",
    "    # Helper umbrella function to get coefficients\n",
    "    def a(self, i, j): return self.pde.get_coefficients(self.t(i), self.x(j))['a']\n",
    "    def b(self, i, j): return self.pde.get_coefficients(self.t(i), self.x(j))['b']\n",
    "    def c(self, i, j): return self.pde.get_coefficients(self.t(i), self.x(j))['c']\n",
    "    def d(self, i, j): return self.pde.get_coefficients(self.t(i), self.x(j))['d']\n",
    "    \n",
    "    # Helper umbrella function to get boundary conditions\n",
    "    def t_up(self, j): return self.pde.get_conditions(0, self.x(j))['tau']\n",
    "    def x_low(self, i): return self.pde.get_conditions(self.t(i), 0)['x_low']\n",
    "    def x_up(self, i): return self.pde.get_conditions(self.t(i), 0)['x_up']\n",
    "\n",
    "\n",
    "    def interpolate(self, t, x):\n",
    "        \"\"\" Get interpolated solution value at given time and space\n",
    "        Parameters:\n",
    "            t : point in time  \n",
    "            x : point in space\n",
    "        Return\n",
    "            interpolated solution value\n",
    "        \n",
    "        NOTE:\n",
    "        To interpolate and find value at point p (t, x), we must first find the discrete points\n",
    "        i and j. Afterwards calculate the vertical and horizontal distance between the points;\n",
    "               vertical distance = (t - i*dt)\n",
    "               horizontal distance = (x - j*dx)\n",
    "        Compute weighted average afterwards.\n",
    "\n",
    "\n",
    "        (i+1, j) --------------- (i+1, j+1)\n",
    "               |            |    |\n",
    "               | ---------- p -- |\n",
    "               |            |    |\n",
    "               |            |    |\n",
    "               |            |    |\n",
    "               |            |    |\n",
    "           (i,j) --------------- (i, j+1)\n",
    "        \"\"\"\n",
    "        # Step 1: calculating closest discrete point (i, j), using floor division \"//\"\n",
    "        i = int(t // self.dt) \n",
    "        j = int((x - self.pde.x_low) // self.dx)\n",
    "\n",
    "        # Step 2: calculating vertical and horizontal distance/weight from each node\n",
    "        #         (Since we are calculating weighting rather than physical distance\n",
    "        #          we will divide it by dt or dx)\n",
    "        i_1 = (t - self.dt * i) / self.dt\n",
    "        i_0 = 1 - i_1\n",
    "        j_1 = (x + self.pde.x_low - self.dx * j) / self.dx\n",
    "        j_0 = 1 - j_1\n",
    "\n",
    "        # Step 3: Returning the weighted average\n",
    "        return (i_0 * j_0 * self.grid[i,j] \n",
    "                + i_1 * j_0 * self.grid[i+1, j]\n",
    "                + i_0 * j_1 * self.grid[i, j+1] \n",
    "                + i_1 * j_1 * self.grid[i+1, j+1])\n",
    "\n",
    "\n",
    "class ExplicitScheme(PDESolver):\n",
    "    \"\"\" Black Scholes PDE solver using the explicit scheme\n",
    "    \"\"\"\n",
    "    def __init__(self, pde, imax, jmax):\n",
    "        super().__init__(pde, imax, jmax)\n",
    "\n",
    "\n",
    "    # Functions for calculating coefficients\n",
    "    \"\"\" Coefficient {*insert coefficient letter}_{i,j} for explicit scheme\n",
    "    Parameters:\n",
    "        i : index of x discretisation\n",
    "        j : index of t discretisation\n",
    "    Return:\n",
    "        Desired coefficient\n",
    "    \"\"\"\n",
    "    def A(self, i, j):\n",
    "        return (self.dt / self.dx) * ((self.b(i, j) / 2) - (self.a(i, j) / self.dx))\n",
    "    \n",
    "    def B(self, i, j):\n",
    "        return 1 - self.dt * self.c(i, j) + 2 * (self.dt * self.a(i, j) / (self.dx ** 2))\n",
    "    \n",
    "    def C(self, i, j):\n",
    "        return - (self.dt / self.dx) * ((self.b(i, j) / 2) + (self.a(i, j) / self.dx)) \n",
    "    \n",
    "    def D(self, i, j):\n",
    "        return - self.dt * self.d(i, j)\n",
    "    \n",
    "\n",
    "    def solve_grid(self):\n",
    "        \"\"\" Method for solving the mesh grid\"\"\"\n",
    "        # 1. Compute all grid points for the last row\n",
    "        self.grid[self.imax, :] = [self.t_up(j) for j in range(self.jmax + 1)]\n",
    "\n",
    "        # 2. Iterate for all i from self.imax to 0 inclusive and update grid points:\n",
    "        for i in range(self.imax, 0, -1):\n",
    "\n",
    "            # 2.1 (i, 0) boundary conditions for x_low\n",
    "            self.grid[i - 1, 0] = self.x_low(i - 1)\n",
    "            # 2.2 (i, -1) boundary conditions for x_up\n",
    "            self.grid[i - 1, -1] = self.x_up(i - 1)\n",
    "\n",
    "            # 2.3 v_(i-1, j) formula\n",
    "            #     Keep in mind, this formula is applied to every row EXCEPT for the\n",
    "            #     top and bottom row which was already defined by boundary conditions\n",
    "            self.grid[i-1, 1:self.jmax] = [(self.A(i, j) * self.grid[i, j-1] \n",
    "                                            + self.B(i, j) * self.grid[i, j]\n",
    "                                            + self.C(i, j) * self.grid[i, j+1]\n",
    "                                            + self.D(i, j)) for j in range(1, self.jmax)]"
   ]
  },
  {
   "cell_type": "code",
   "execution_count": 2,
   "metadata": {},
   "outputs": [],
   "source": [
    "from options import OptionsBlackScholes, American, Barrier"
   ]
  },
  {
   "cell_type": "code",
   "execution_count": 3,
   "metadata": {},
   "outputs": [
    {
     "name": "stdout",
     "output_type": "stream",
     "text": [
      "Eu Put Option's Explicit Value: 19.584377490573264\n"
     ]
    }
   ],
   "source": [
    "spot_init = 100  # Initial Spot price S_0\n",
    "strike    = 100  # Strike price\n",
    "rate      = 0.05 # Risk-free rate\n",
    "tau       = 1/12  # Time to maturity\n",
    "spot_low  = 0\n",
    "spot_up   = 2 * spot_init\n",
    "sigma     = 0.2\n",
    "\n",
    "EuPut = OptionsBlackScholes(strike, rate, tau, sigma, (spot_low, spot_up), 'put')\n",
    "\n",
    "EuPut_explicit = ExplicitScheme(EuPut, 100, 100)\n",
    "EuPut_explicit.solve_grid()\n",
    "\n",
    "print(f\"Eu Put Option's Explicit Value: {EuPut_explicit.interpolate(0,80)}\")"
   ]
  },
  {
   "cell_type": "code",
   "execution_count": 5,
   "metadata": {},
   "outputs": [
    {
     "data": {
      "text/plain": [
       "{'tau': 0, 'x_low': 0.0, 'x_up': 0.0}"
      ]
     },
     "execution_count": 5,
     "metadata": {},
     "output_type": "execute_result"
    }
   ],
   "source": [
    "spot_init = 100  # Initial Spot price S_0\n",
    "strike    = 100  # Strike price\n",
    "rate      = 0.05 # Risk-free rate\n",
    "D         = 118  # Barrier\n",
    "tau       = 6/12 # Time to maturity\n",
    "spot_low  = 0\n",
    "spot_up   = 2 * spot_init\n",
    "alpha     = 0.25 # alpha\n",
    "\n",
    "sigma     = lambda t, s: 0.13 * math.exp(-t) * ((100/s)**alpha) # Lambda function representing std\n",
    "\n",
    "\n",
    "upandoutcall = Barrier(strike, rate, tau, sigma, D, (spot_low, spot_up), 'up-out', 'call')\n",
    "\n",
    "\n",
    "# upandoutcall_explicit = ExplicitScheme(upandoutcall, 100, 100)\n",
    "# upandoutcall_explicit.solve_grid()\n",
    "\n",
    "# print(f\"Eu Put Option's Explicit Value: {upandoutcall_explicit.interpolate(0,80)}\")"
   ]
  },
  {
   "cell_type": "code",
   "execution_count": 16,
   "metadata": {},
   "outputs": [
    {
     "data": {
      "text/plain": [
       "{'tau': 0, 'x_low': 0.0, 'x_up': 0.0}"
      ]
     },
     "execution_count": 16,
     "metadata": {},
     "output_type": "execute_result"
    }
   ],
   "source": [
    "upandoutcall.get_conditions(tau, spot_init)"
   ]
  },
  {
   "cell_type": "code",
   "execution_count": 23,
   "metadata": {},
   "outputs": [
    {
     "name": "stdout",
     "output_type": "stream",
     "text": [
      "AM Put Option's Explicit Value: 19.007731778978236\n"
     ]
    }
   ],
   "source": [
    "# Initialising variables for the pde\n",
    "spot_init = 100  # Initial Spot price S_0\n",
    "K         = 100  # Strike price\n",
    "r         = 0.02 # Risk-free rate\n",
    "D         = 118  # Barrier\n",
    "T         = 0.5  # Time to maturity\n",
    "alpha     = 0.25 # alpha\n",
    "\n",
    "sigma     = lambda t, s: 0.13 * math.exp(-t) * ((100/s)**alpha) # Lambda function representing std\n",
    "\n",
    "spot_low  = 0\n",
    "spot_up   = 2 * spot_init\n",
    "\n",
    "# Initialising up and out pde\n",
    "pde = UpOutEuCallBS(r, sigma, K, D, T, spot_low, spot_up)\n",
    "\n",
    "# Executing explicit scheme\n",
    "explicit = ExplicitScheme(pde, 100, 100)\n",
    "explicit.solve_grid() # Computing grid\n",
    "\n",
    "# Interpolating for S = S_0\n",
    "explicit_val = explicit.interpolate(0,100)\n",
    "print(f\"Explicit Value: {explicit_val}\")"
   ]
  },
  {
   "cell_type": "code",
   "execution_count": 19,
   "metadata": {},
   "outputs": [
    {
     "name": "stdout",
     "output_type": "stream",
     "text": [
      "European Put Option's Explicit Value: 19.007731778978236\n",
      "American Put Option's Explicit Value: 19.007731778978236\n"
     ]
    }
   ],
   "source": [
    "AmPut_explicit = ExplicitScheme(AmPut, 100, 100)\n",
    "AmPut_explicit.solve_grid()\n",
    "\n",
    "print(f\"European Put Option's Explicit Value: {AmPut_explicit.interpolate(0,80)}\")\n",
    "\n",
    "# Adjust the grid for the American option's early exercise feature\n",
    "grid = AmPut_explicit.get_grid()\n",
    "AmPut_explicit.grid = AmPut.adjust_grid(grid, AmPut_explicit.dx)\n",
    "\n",
    "# Re-solve the grid using the adjusted values\n",
    "AmPut_explicit.solve_grid()\n",
    "\n",
    "print(f\"American Put Option's Explicit Value: {AmPut_explicit.interpolate(0,80)}\")"
   ]
  },
  {
   "cell_type": "code",
   "execution_count": 96,
   "metadata": {},
   "outputs": [
    {
     "data": {
      "text/plain": [
       "4.41971978051388"
      ]
     },
     "execution_count": 96,
     "metadata": {},
     "output_type": "execute_result"
    }
   ],
   "source": [
    "import math\n",
    "from scipy.stats import norm\n",
    "\n",
    "# Given variables\n",
    "\n",
    "spot_init = 100  # Initial Spot price S_0\n",
    "strike    = 100  # Strike price\n",
    "rate      = 0.05 # Risk-free rate\n",
    "tau       = 6/12  # Time to maturity\n",
    "spot_low  = 0\n",
    "spot_up   = 2 * spot_init\n",
    "sigma     = 0.2\n",
    "\n",
    "# Black-Scholes formula for European put option\n",
    "def black_scholes_put_price(S, K, r, tau, sigma):\n",
    "    d1 = (math.log(S / K) + (r + 0.5 * sigma**2) * tau) / (sigma * math.sqrt(tau))\n",
    "    d2 = d1 - sigma * math.sqrt(tau)\n",
    "    \n",
    "    put_price = K * math.exp(-r * tau) * norm.cdf(-d2) - S * norm.cdf(-d1)\n",
    "    return put_price\n",
    "\n",
    "european_put_price = black_scholes_put_price(spot_init, strike, rate, tau, sigma)\n",
    "european_put_price"
   ]
  },
  {
   "cell_type": "code",
   "execution_count": null,
   "metadata": {},
   "outputs": [],
   "source": []
  }
 ],
 "metadata": {
  "kernelspec": {
   "display_name": "base",
   "language": "python",
   "name": "python3"
  },
  "language_info": {
   "codemirror_mode": {
    "name": "ipython",
    "version": 3
   },
   "file_extension": ".py",
   "mimetype": "text/x-python",
   "name": "python",
   "nbconvert_exporter": "python",
   "pygments_lexer": "ipython3",
   "version": "3.9.13 (main, Aug 25 2022, 23:26:10) \n[GCC 11.2.0]"
  },
  "orig_nbformat": 4,
  "vscode": {
   "interpreter": {
    "hash": "e4818a0b8c316263be072c2082609790d2bac6bbfe2378382b84905edb944ba2"
   }
  }
 },
 "nbformat": 4,
 "nbformat_minor": 2
}
